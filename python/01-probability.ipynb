{
 "cells": [
  {
   "cell_type": "markdown",
   "metadata": {},
   "source": [
    "# Probability Review\r\n",
    "\r\n",
    "## 確率の概念\r\n",
    "\r\n",
    "- **確率過程（random process）**：毎回異なるアウトカムが何度も繰り返されるプロセス\r\n",
    "- **標本空間（sample space）**：確率過程で得られるすべてのアウトカムの集合\r\n",
    "    - e.g.) ガソリン価格 $\\Omega = \\{p: p \\ge 0\\}$\r\n",
    "    - e.g.) 12面サイコロ $\\Omega = \\{1, 2, \\ldots, 12\\}$"
   ]
  },
  {
   "cell_type": "markdown",
   "metadata": {},
   "source": [
    "## 独立（independence）の定義\r\n",
    "\r\n",
    "1. logical independence：二つのイベントが生じたが、互いに影響を与えると考える理由がない\r\n",
    "    - 前後即因果の誤謬（post hoc ergo propter hoc）：独立であるにも関わらず、時間の前後関係から二つのイベントは影響しあっていると考えてしまうもの\r\n",
    "1. statistical independece"
   ]
  },
  {
   "cell_type": "markdown",
   "metadata": {},
   "source": [
    "## 統計的独立の二つの定義\r\n",
    "\r\n",
    "1. $P(A|B) = P(A)$ \r\n",
    "    - sample with/without replacement\r\n",
    "    - ランダムシャッフルしたトランプから一枚引いたとき、エースである（$A$）である確率は$P(A) = 4/52$\r\n",
    "    - 一枚目のカードがエース（$B$）であり、もう一度カードを一枚引いた（w/o replacement）とき、エースである（$A$）確率は$P(A|B) = 3/51$\r\n",
    "    - 一枚目のカードがエース（$B$）であり、そのカードを戻してもう一度カードを一枚引いた（w/ replacement）とき、エースである（$A$）確率は$P(A|B) = 4/52$\r\n",
    "1. $P(A, B) = P(A)P(B)$\r\n",
    "    - テキサスポーカーの例（自分にしか分からない二枚のカードと公開されている三枚のカードで役を競う）\r\n",
    "    - 自分にしか分からないカード（pocket cards）が同じ数字（two of a kind）である確率は$4/52 \\times 3/51 = 0.0045$"
   ]
  },
  {
   "cell_type": "markdown",
   "metadata": {},
   "source": [
    "## イベントに関するNotation\r\n",
    "\r\n",
    "あるイベントを$A$とし、他のイベントを$B$とする\r\n",
    "\r\n",
    "- $A$ and $B$: Both A and B occur\r\n",
    "- $\\sim A$ and $B$: A does not occur, but B occurs\r\n",
    "- $A$ and $\\sim B$: A occurs, but B does not occur\r\n",
    "- $\\sim A$ and $\\sim B$: Neither A and B occurs"
   ]
  },
  {
   "cell_type": "markdown",
   "metadata": {},
   "source": [
    "## 樹形図\r\n",
    "\r\n",
    "<img src = \"https://mixtape.scunning.com/causal_inference_mixtape_files/figure-html/unnamed-chunk-6-1.png\" alt = \"Drawing\" style = \"width: 1000px;\"/>"
   ]
  },
  {
   "cell_type": "markdown",
   "metadata": {},
   "source": [
    "## 樹形図の特徴\r\n",
    "\r\n",
    "あるノードから出発するすべてのブランチについて、\r\n",
    "\r\n",
    "- あるブランチの確率を合計すると1になる\r\n",
    "- 同時確率を合計すると出発地点のノードに達する確率と一致する（**the law of total probability**）：$P(A) = \\sum_n P(A \\cap B_n)$\r\n",
    "- 筆記試験に合格したことを条件としたとき、運転試験に不合格となる確率は$P(\\text{Fail}|\\text{Pass}) = 0.45/0.75 = 0.6$（条件付き確率の概念）\r\n"
   ]
  },
  {
   "cell_type": "markdown",
   "metadata": {},
   "source": [
    "## ベン図（Venn diagram）\r\n",
    "\r\n",
    "<img src = \"https://mixtape.scunning.com/causal_inference_mixtape_files/figure-html/unnamed-chunk-7-1.png\" alt = \"Drawing\" style = \"width: 1000px;\"/>"
   ]
  },
  {
   "cell_type": "markdown",
   "metadata": {},
   "source": [
    "## 集合の性質\r\n",
    "\r\n",
    "U is the universal set of which A and B are subsets\r\n",
    "\r\n",
    "- $A + \\sim A = B + \\sim B = U$\r\n",
    "- $A = B + \\sim B - \\sim AandB = A + \\sim A - \\sim B$\r\n",
    "- $A = A \\cap B + A \\cap \\sim B\\toA \\cap \\sim B = A - A \\cap B$\r\n",
    "- $A \\cup B = A \\cap \\sim B + \\sim A \\cap B + A \\cap B$"
   ]
  },
  {
   "cell_type": "markdown",
   "metadata": {},
   "source": [
    "## テキサス大学のフットボールチームのコーチの危機(1)\r\n",
    "\r\n",
    "Longhorns（テキサス大学のフットボールチーム）がボールゲームに招待されないと、コーチは解雇される可能性が高い。\r\n",
    "\r\n",
    "- イベントA：Longhornsがボールゲームに招待される（$P(A)=0.6$）\r\n",
    "- イベントB：コーチが雇用継続される（$P(B)=0.8$）\r\n",
    "- 二つのイベントが同時に生じる確率は$P(A,B)=0.5$\r\n",
    "\r\n",
    "このとき、Longhornがボールゲームに招待され、コーチが雇用継続されないというイベントが同時に生じる確率は$P(A, \\sim B) = P(A) - P(A, B) = 0.1$"
   ]
  },
  {
   "cell_type": "markdown",
   "metadata": {},
   "source": [
    "## テキサス大学のフットボールチームのコーチの危機(2)\r\n",
    "\r\n",
    "確率はある集合を形成する部分集合が集合に占める割合で計算される\r\n",
    "\r\n",
    "- イベントAが生じた世界でイベントBが生じる確率は$A \\cap B / A = 0.5 /0.6 = 0.83$\r\n",
    "- イベントBが生じた世界でイベントAが生じる確率は$P(A|B)=P(A,B)/P(B)=0.5/0.8=0.63$"
   ]
  },
  {
   "cell_type": "markdown",
   "metadata": {},
   "source": [
    "## 分割表（Contingency tables）\r\n",
    "\r\n",
    "| Event labels | Coach is not rehired ($∼B$) | Coach is rehired ($B$) | Total |\r\n",
    "| :-: | :-: | :-: | :-: |\r\n",
    "|($A$) Bowl game | $P(A,∼B)=0.1$ | $P(A,B)=0.5$ | $P(A)=0.6$ |\r\n",
    "|($∼A$) no Bowl game | $P(∼A,∼B)=0.1$ | $P(∼A,B)=0.3$ | $P(∼A)=0.4$ |\r\n",
    "| Total | $P(∼B)=0.2$ | $P(B)=0.8$ | $P(U)=1$ |"
   ]
  },
  {
   "cell_type": "markdown",
   "metadata": {},
   "source": [
    "## 条件付き確率の定義\r\n",
    "\r\n",
    "- $P(A|B)=P(A,B)/P(B)$ $\\to$ $P(A, B) = P(A|B)P(B)$\r\n",
    "- $P(B|A)=P(B,A)/P(A)$ $\\to$ $P(B, A) = P(B|A)P(A)$"
   ]
  },
  {
   "cell_type": "markdown",
   "metadata": {},
   "source": [
    "## Naive version of Bayes' rule\r\n",
    "\r\n",
    "$$ P(A|B) = \\frac{P(A)}{P(B)} P(B|A) $$\r\n",
    "\r\n",
    "- これは$P(A|B)P(B)=P(A,B)=P(B,A)=P(B|A)P(A)$で得られる\r\n",
    "- このテキストは原因から結果を推定するが、ベイズの法則は結果から原因に関する合理的な信念を作れることも伝えている"
   ]
  },
  {
   "cell_type": "markdown",
   "metadata": {},
   "source": [
    "## Bayesian decomposition version of Bayes' rule\r\n",
    "\r\n",
    "$$ P(A|B) = \\frac{P(B|A)P(A)}{P(B|A)P(A) + P(B|\\sim A) P(\\sim A)} $$\r\n",
    "\r\n",
    "- これは$P(B) = P(A, B) + P(\\sim A, B)、P(\\sim A, B) = P(B, \\sim A) = P(B|\\sim A) P(\\sim A)$で得られる\r\n",
    "- テキサス大学のコーチが雇用継続されたならば、Longhornがボールゲームに招待される確率は\r\n",
    "    - $P(A|B) = (0.83 \\cdot 0.6)/(0.83 \\cdot 0.6 + 0.75 \\cdot 0.4) = 0.624$"
   ]
  },
  {
   "cell_type": "markdown",
   "metadata": {},
   "source": [
    "## モンティホール・ジレンマ(1)\r\n",
    "\r\n",
    "- 三つのドア（$D_i$, $i = 1, 2, 3$）があり、一つのドアの裏に百万ドルがあり、残りのドアの裏に羊がいる\r\n",
    "- ホストは参加者に好きなドアを一つ選んでもらう。そのあと、ホストは羊がいるドアを一つ開き、ドアを選びなおすかどうかを尋ねる。\r\n",
    "- 大半の参加者の反応は「ドアを変えない」（なぜなら、各ドアの裏に百万ドルがある確率は等しいはずだから）\r\n",
    "    - この反応は正しくない。それはなぜか？"
   ]
  },
  {
   "cell_type": "markdown",
   "metadata": {},
   "source": [
    "## モンティホール・ジレンマ(2)\r\n",
    "\r\n",
    "- 参加者は最初にドア1を選んだと仮定する\r\n",
    "- イベントAi（ドアiの裏に百万ドルがある）の確率は$P(A_i)=1/3$\r\n",
    "    - 全確率の法則より, $P(\\sim A) = 2/3$\r\n",
    "- ホストは羊がいるドア2を開けた（イベント$B_i$）と仮定する\r\n",
    "\r\n",
    "Q：ドア2が開けられたとき、ドア1と3の裏に百万ドルがある確率はそれぞれいくらか？"
   ]
  },
  {
   "cell_type": "markdown",
   "metadata": {},
   "source": [
    "## モンティホール・ジレンマ(3)\r\n",
    "\r\n",
    "$$ P(A_1|B) = \\frac{P(B|A_1) P(A_1)}{P(B|A_1) P(A_1) + P(B|A_2) P(A_2) + P(B|A_3) P(A_3)} $$\r\n",
    "\r\n",
    "- イベントAiの事前確率（**prior probability**, **prioir belief**, **unconditional probability**）はP(Ai)=1/3\r\n",
    "- $P(B|A1)=1/2$（ドア2と3の裏に百万ドルはないので、ホストはどちらとも開けられるから）\r\n",
    "- $P(B|A2)=0$（ホストは百万ドルがあるドアを絶対に開けないから）\r\n",
    "- $P(B|A3)=1$（参加者はすでにドア1を選び、ドア3の裏に百万ドルがあるから）"
   ]
  },
  {
   "cell_type": "markdown",
   "metadata": {},
   "source": [
    "## モンティホール・ジレンマ(4)\r\n",
    "\r\n",
    "$$ P(A_1 | B) = 1/3, \\quad P(A_3|B) = 2/3$$\r\n",
    "\r\n",
    "- A3の事前確率$P(A_3)=1/3$が**updateing**とよばれる過程を通じて、事後確率（**posterior probability**, **posterior belief**）$P(A_3|B)=2/3$に上昇した\r\n",
    "\r\n",
    "Whereas most of this book has to do with estimating effects from known causes, Bayes' rule reminds us that we can form reasonable beliefs about causes from known effects.\r\n"
   ]
  },
  {
   "cell_type": "markdown",
   "metadata": {},
   "source": [
    "## Summation operator (1)\r\n",
    "\r\n",
    "$$ \\sum_{i=1}^n x_i = x_1 + x_2 + \\ldots + x_n $$\r\n",
    "\r\n",
    "基本的な性質\r\n",
    "\r\n",
    "- $\\sum_{i=1}^n c = nc$ for any constant $c$\r\n",
    "- $\\sum_{i=1}^n cx_i = c \\sum_{i=1}^n x_i$ for any constant $c$\r\n",
    "- $\\sum_{i=1}^n (a x_i + b y_i) = a \\sum_{i=1}^n x_i + b \\sum_{i=1}^n y_i$ for any constant $a$ and $b$\r\n",
    "- $\\sum_{i=1}^n x_i/y_i \\neq \\sum_{i=1}^n x_i / \\sum_{i=1}^n y_i$\r\n",
    "- $\\sum_{i=1}^n x_i^2 \\neq (\\sum_{i=1}^n x_i)^2$"
   ]
  },
  {
   "cell_type": "markdown",
   "metadata": {},
   "source": [
    "## Summation operator (2)\r\n",
    "\r\n",
    "$$ \\bar{x} = \\frac{1}{n} \\sum_{i=1}^n x_i $$\r\n",
    "\r\n",
    "基本的な性質\r\n",
    "\r\n",
    "- $\\sum_{i=1}^n (x_i - \\bar{x}) = 0$\r\n",
    "- $\\sum_{i=1}^n (x_i - \\bar{x})^2 = \\sum_{i=1}^n x_i^2 - n \\bar{x}^2$\r\n",
    "- $\\sum_{i=1}^n (x_i - \\bar{x})(y_i - \\bar{y}) = \\sum_{i=1}^n x_i y_i - n(\\bar{x}\\bar{y})$\r\n"
   ]
  },
  {
   "cell_type": "markdown",
   "metadata": {},
   "source": [
    "## 期待値\r\n",
    "\r\n",
    "変数Xは確率$f(x_1), f(x_2), \\ldots, f(x_k)によって、x_1, x_2, \\ldots, x_k$という値を取る\r\n",
    "Xの期待値（**expected value**）は $$E(X) = \\sum_{j = 1}^k x_j f(x_j)$$\r\n",
    "\r\n",
    "基本的な性質\r\n",
    "\r\n",
    "- $E(c)=c$ for any constant $c$\r\n",
    "- $E(aX+b)=aE(X)+b$ for any two constants $a$ and $b$\r\n",
    "- $E(\\sum_{i=1}^n a_i X_i) = \\sum_i a_i E(X_i)$ where $a_1, \\ldots, a_n$ are numerous constants, and $X_1, \\ldots, X_n$ are random variables\r\n",
    "- $E(X−E(X))=0$\r\n",
    "- $E(\\cdot)$ は母集団に関する概念 (サンプルではなく、関心のあるグループ全体)"
   ]
  },
  {
   "cell_type": "markdown",
   "metadata": {},
   "source": [
    "## 分散\r\n",
    "\r\n",
    "$X$の分散は$$V(X) = \\sigma^2 = E[(X - E(X))^2] = E(X^2) - E(X)^2$$\r\n",
    "\r\n",
    "基本的な性質\r\n",
    "\r\n",
    "- $V(c) = 0$ for any constant $c$\r\n",
    "- $V(aX + b) = a^2 V(X)$ for any two constants $a$ and $b$\r\n",
    "- $V(X + Y) = V(X) + V(Y) + 2(E(XY) - E(X)E(Y))$\r\n",
    "    - If two random variables are independent, then $E(XY) = E(X)E(Y)$ and $V(X+Y) = V(X) + V(Y)$"
   ]
  },
  {
   "cell_type": "markdown",
   "metadata": {},
   "source": [
    "## 不偏分散\r\n",
    "\r\n",
    "母集団の概念である$V(X)$の不偏推定量は$$\\hat{S}^2 = \\frac{1}{n-1} \\sum_{i=1}^n (x_i - \\bar{x})^2$$"
   ]
  },
  {
   "cell_type": "markdown",
   "metadata": {},
   "source": [
    "## 自由度：なぜ$(n-1)$で割るのか？\r\n",
    "\r\n",
    "標本平均$\\bar{x}$に分散があるから（recall 中心極限定理）\r\n",
    "\r\n",
    "- 平均$\\mu$と分散$\\sigma^2$のIIDサンプル$x_i$を考える\r\n",
    "- 標本分散は$s^2 = n^{-1} \\sum_i (x_i - \\bar{x})^2 = n^{-1} \\sum_i (x_i - \\mu)^2 - (\\bar{x} - \\mu)^2$\r\n",
    "- この期待値は$E(s^2) = \\sigma^2 - V(\\bar{x}) = \\sigma^2 (n-1)/n$\r\n",
    "- よって、$E(S^2) = E(s^2 \\cdot n/(n-1)) = \\sigma^2$\r\n",
    "- 標本が十分に大きくなると、$E(s^2)$は$\\sigma^2$に収束する"
   ]
  },
  {
   "cell_type": "markdown",
   "metadata": {},
   "source": [
    "## 共分散\r\n",
    "\r\n",
    "二つのランダム変数の共分散は$$ \\text{Cov}(X, Y) = E(XY) - E(X)E(Y) $$\r\n",
    "\r\n",
    "- $V(X + Y) = V(X) + V(Y) + 2\\text{Cov}(X,Y)$\r\n",
    "    - $X$と$Y$が独立ならば, $\\text{Cov}(X, Y) = 0$ (sufficiency)\r\n",
    "- $\\text{Cov}(a_1 + b_1 X, a_2 + b_2 Y) = b_1 b_2 \\text{Cov}(X, Y)$\r\n"
   ]
  },
  {
   "cell_type": "markdown",
   "metadata": {},
   "source": [
    "\r\n",
    "## 相関\r\n",
    "\r\n",
    "$$ \\text{Corr}(X, Y) = \\frac{\\text{Cov}(X, Y)}{\\sqrt{V(X)V(Y)}} = \\text{Cov} \\left(\\frac{X - E(X)}{\\sqrt{X}}, \\frac{Y - E(Y)}{\\sqrt{Y}} \\right)$$\r\n"
   ]
  },
  {
   "cell_type": "markdown",
   "metadata": {},
   "source": []
  }
 ],
 "metadata": {
  "interpreter": {
   "hash": "0c05061e9987434afa6c90b5f74d4eb8e01283385dfba9ca4aec1a074e6bf09c"
  },
  "kernelspec": {
   "display_name": "Python 3.7.10 64-bit ('econome': conda)",
   "name": "python3"
  },
  "language_info": {
   "name": "python",
   "version": ""
  },
  "orig_nbformat": 4
 },
 "nbformat": 4,
 "nbformat_minor": 2
}